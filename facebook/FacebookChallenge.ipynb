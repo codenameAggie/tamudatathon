{
 "cells": [
  {
   "cell_type": "markdown",
   "metadata": {},
   "source": [
    "# Facebook Challenge"
   ]
  },
  {
   "cell_type": "code",
   "execution_count": 1,
   "metadata": {},
   "outputs": [],
   "source": [
    "import pandas as pd"
   ]
  },
  {
   "cell_type": "markdown",
   "metadata": {},
   "source": [
    "## Challenge 1\n",
    "Estimate which people and how many people are reachable by the ML roads"
   ]
  },
  {
   "cell_type": "markdown",
   "metadata": {},
   "source": [
    "For every point in the population density dataset tz_popdens_sample.csv, find the distance to the nearest road pixel with val > 75 (the limit is imposed to be reasonably confident in the prediction) in latitude- longitude units."
   ]
  },
  {
   "cell_type": "code",
   "execution_count": 5,
   "metadata": {},
   "outputs": [
    {
     "data": {
      "text/html": [
       "<div>\n",
       "<style scoped>\n",
       "    .dataframe tbody tr th:only-of-type {\n",
       "        vertical-align: middle;\n",
       "    }\n",
       "\n",
       "    .dataframe tbody tr th {\n",
       "        vertical-align: top;\n",
       "    }\n",
       "\n",
       "    .dataframe thead th {\n",
       "        text-align: right;\n",
       "    }\n",
       "</style>\n",
       "<table border=\"1\" class=\"dataframe\">\n",
       "  <thead>\n",
       "    <tr style=\"text-align: right;\">\n",
       "      <th></th>\n",
       "      <th>population_count</th>\n",
       "      <th>latitude</th>\n",
       "      <th>longitude</th>\n",
       "    </tr>\n",
       "  </thead>\n",
       "  <tbody>\n",
       "    <tr>\n",
       "      <td>count</td>\n",
       "      <td>101563.000000</td>\n",
       "      <td>101563.000000</td>\n",
       "      <td>101563.000000</td>\n",
       "    </tr>\n",
       "    <tr>\n",
       "      <td>mean</td>\n",
       "      <td>3.761931</td>\n",
       "      <td>-6.148189</td>\n",
       "      <td>35.709345</td>\n",
       "    </tr>\n",
       "    <tr>\n",
       "      <td>std</td>\n",
       "      <td>2.806253</td>\n",
       "      <td>0.078864</td>\n",
       "      <td>0.090650</td>\n",
       "    </tr>\n",
       "    <tr>\n",
       "      <td>min</td>\n",
       "      <td>0.951544</td>\n",
       "      <td>-6.315060</td>\n",
       "      <td>35.507965</td>\n",
       "    </tr>\n",
       "    <tr>\n",
       "      <td>25%</td>\n",
       "      <td>2.142800</td>\n",
       "      <td>-6.194227</td>\n",
       "      <td>35.634632</td>\n",
       "    </tr>\n",
       "    <tr>\n",
       "      <td>50%</td>\n",
       "      <td>2.980400</td>\n",
       "      <td>-6.158116</td>\n",
       "      <td>35.736576</td>\n",
       "    </tr>\n",
       "    <tr>\n",
       "      <td>75%</td>\n",
       "      <td>4.423470</td>\n",
       "      <td>-6.098671</td>\n",
       "      <td>35.774632</td>\n",
       "    </tr>\n",
       "    <tr>\n",
       "      <td>max</td>\n",
       "      <td>27.647500</td>\n",
       "      <td>-5.965894</td>\n",
       "      <td>35.859354</td>\n",
       "    </tr>\n",
       "  </tbody>\n",
       "</table>\n",
       "</div>"
      ],
      "text/plain": [
       "       population_count       latitude      longitude\n",
       "count     101563.000000  101563.000000  101563.000000\n",
       "mean           3.761931      -6.148189      35.709345\n",
       "std            2.806253       0.078864       0.090650\n",
       "min            0.951544      -6.315060      35.507965\n",
       "25%            2.142800      -6.194227      35.634632\n",
       "50%            2.980400      -6.158116      35.736576\n",
       "75%            4.423470      -6.098671      35.774632\n",
       "max           27.647500      -5.965894      35.859354"
      ]
     },
     "execution_count": 5,
     "metadata": {},
     "output_type": "execute_result"
    }
   ],
   "source": [
    "pop_data = pd.read_csv('tz_popdens_sample.csv')\n",
    "pop_data.describe()"
   ]
  },
  {
   "cell_type": "code",
   "execution_count": 12,
   "metadata": {},
   "outputs": [
    {
     "data": {
      "text/html": [
       "<div>\n",
       "<style scoped>\n",
       "    .dataframe tbody tr th:only-of-type {\n",
       "        vertical-align: middle;\n",
       "    }\n",
       "\n",
       "    .dataframe tbody tr th {\n",
       "        vertical-align: top;\n",
       "    }\n",
       "\n",
       "    .dataframe thead th {\n",
       "        text-align: right;\n",
       "    }\n",
       "</style>\n",
       "<table border=\"1\" class=\"dataframe\">\n",
       "  <thead>\n",
       "    <tr style=\"text-align: right;\">\n",
       "      <th></th>\n",
       "      <th>population_count</th>\n",
       "      <th>latitude</th>\n",
       "      <th>longitude</th>\n",
       "    </tr>\n",
       "  </thead>\n",
       "  <tbody>\n",
       "    <tr>\n",
       "      <td>0</td>\n",
       "      <td>3.48218</td>\n",
       "      <td>-6.022005</td>\n",
       "      <td>35.719076</td>\n",
       "    </tr>\n",
       "    <tr>\n",
       "      <td>1</td>\n",
       "      <td>3.48218</td>\n",
       "      <td>-6.022005</td>\n",
       "      <td>35.722132</td>\n",
       "    </tr>\n",
       "    <tr>\n",
       "      <td>2</td>\n",
       "      <td>3.48218</td>\n",
       "      <td>-6.022005</td>\n",
       "      <td>35.722409</td>\n",
       "    </tr>\n",
       "    <tr>\n",
       "      <td>3</td>\n",
       "      <td>3.48218</td>\n",
       "      <td>-6.022005</td>\n",
       "      <td>35.733520</td>\n",
       "    </tr>\n",
       "    <tr>\n",
       "      <td>4</td>\n",
       "      <td>3.48218</td>\n",
       "      <td>-6.022005</td>\n",
       "      <td>35.744354</td>\n",
       "    </tr>\n",
       "    <tr>\n",
       "      <td>...</td>\n",
       "      <td>...</td>\n",
       "      <td>...</td>\n",
       "      <td>...</td>\n",
       "    </tr>\n",
       "    <tr>\n",
       "      <td>101558</td>\n",
       "      <td>7.24281</td>\n",
       "      <td>-6.162838</td>\n",
       "      <td>35.754076</td>\n",
       "    </tr>\n",
       "    <tr>\n",
       "      <td>101559</td>\n",
       "      <td>7.24281</td>\n",
       "      <td>-6.162838</td>\n",
       "      <td>35.754354</td>\n",
       "    </tr>\n",
       "    <tr>\n",
       "      <td>101560</td>\n",
       "      <td>7.24281</td>\n",
       "      <td>-6.162838</td>\n",
       "      <td>35.754632</td>\n",
       "    </tr>\n",
       "    <tr>\n",
       "      <td>101561</td>\n",
       "      <td>7.24281</td>\n",
       "      <td>-6.162838</td>\n",
       "      <td>35.754909</td>\n",
       "    </tr>\n",
       "    <tr>\n",
       "      <td>101562</td>\n",
       "      <td>7.24281</td>\n",
       "      <td>-6.162838</td>\n",
       "      <td>35.755187</td>\n",
       "    </tr>\n",
       "  </tbody>\n",
       "</table>\n",
       "<p>101563 rows × 3 columns</p>\n",
       "</div>"
      ],
      "text/plain": [
       "        population_count  latitude  longitude\n",
       "0                3.48218 -6.022005  35.719076\n",
       "1                3.48218 -6.022005  35.722132\n",
       "2                3.48218 -6.022005  35.722409\n",
       "3                3.48218 -6.022005  35.733520\n",
       "4                3.48218 -6.022005  35.744354\n",
       "...                  ...       ...        ...\n",
       "101558           7.24281 -6.162838  35.754076\n",
       "101559           7.24281 -6.162838  35.754354\n",
       "101560           7.24281 -6.162838  35.754632\n",
       "101561           7.24281 -6.162838  35.754909\n",
       "101562           7.24281 -6.162838  35.755187\n",
       "\n",
       "[101563 rows x 3 columns]"
      ]
     },
     "execution_count": 12,
     "metadata": {},
     "output_type": "execute_result"
    }
   ],
   "source": [
    "pop_data"
   ]
  },
  {
   "cell_type": "code",
   "execution_count": null,
   "metadata": {},
   "outputs": [],
   "source": []
  }
 ],
 "metadata": {
  "kernelspec": {
   "display_name": "Python 3",
   "language": "python",
   "name": "python3"
  },
  "language_info": {
   "codemirror_mode": {
    "name": "ipython",
    "version": 3
   },
   "file_extension": ".py",
   "mimetype": "text/x-python",
   "name": "python",
   "nbconvert_exporter": "python",
   "pygments_lexer": "ipython3",
   "version": "3.7.4"
  }
 },
 "nbformat": 4,
 "nbformat_minor": 2
}
